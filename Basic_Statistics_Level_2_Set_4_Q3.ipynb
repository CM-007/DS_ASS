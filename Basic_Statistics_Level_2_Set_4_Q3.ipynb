{
  "nbformat": 4,
  "nbformat_minor": 0,
  "metadata": {
    "colab": {
      "provenance": [],
      "authorship_tag": "ABX9TyOPAeruAJ+xegAscqaPi7a5",
      "include_colab_link": true
    },
    "kernelspec": {
      "name": "python3",
      "display_name": "Python 3"
    },
    "language_info": {
      "name": "python"
    }
  },
  "cells": [
    {
      "cell_type": "markdown",
      "metadata": {
        "id": "view-in-github",
        "colab_type": "text"
      },
      "source": [
        "<a href=\"https://colab.research.google.com/github/CM-007/DS_ASS/blob/main/Basic_Statistics_Level_2_Set_4_Q3.ipynb\" target=\"_parent\"><img src=\"https://colab.research.google.com/assets/colab-badge.svg\" alt=\"Open In Colab\"/></a>"
      ]
    },
    {
      "cell_type": "code",
      "execution_count": 2,
      "metadata": {
        "id": "kGpIViNfwoax"
      },
      "outputs": [],
      "source": [
        "import numpy as np\n",
        "from scipy import stats\n",
        "from scipy.stats import norm"
      ]
    },
    {
      "cell_type": "code",
      "source": [
        "# For No investigation - P(45<X<55)\n",
        "# For Investigation -  1-P(45<X<55)"
      ],
      "metadata": {
        "id": "1Qb2foG1xVp4"
      },
      "execution_count": null,
      "outputs": []
    },
    {
      "cell_type": "code",
      "source": [
        "# find z-scores at x=45; z=(s_mean-P_mean)/(p_SD/sqrt(n))\n",
        "z=(45-50)/(40/100**0.5)\n",
        "z"
      ],
      "metadata": {
        "colab": {
          "base_uri": "https://localhost:8080/"
        },
        "id": "F5mux_26xVtJ",
        "outputId": "b226853a-c238-482e-9d3b-eeee572518f1"
      },
      "execution_count": 3,
      "outputs": [
        {
          "output_type": "execute_result",
          "data": {
            "text/plain": [
              "-1.25"
            ]
          },
          "metadata": {},
          "execution_count": 3
        }
      ]
    },
    {
      "cell_type": "code",
      "source": [
        "# find z-scores at x=55; z=(s_mean-P_mean)/(p_SD/sqrt(n))\n",
        "z=(55-50)/(40/100**0.5)\n",
        "z"
      ],
      "metadata": {
        "colab": {
          "base_uri": "https://localhost:8080/"
        },
        "id": "9UCjqBjyxVwm",
        "outputId": "59991f54-4a61-4935-c5e1-60284c2ebe66"
      },
      "execution_count": 4,
      "outputs": [
        {
          "output_type": "execute_result",
          "data": {
            "text/plain": [
              "1.25"
            ]
          },
          "metadata": {},
          "execution_count": 4
        }
      ]
    },
    {
      "cell_type": "code",
      "source": [
        "# For No investigation P(45<X<55) using z_scores = P(X<50)-P(X<45)\n",
        "stats.norm.cdf(1.25)-stats.norm.cdf(-1.25)"
      ],
      "metadata": {
        "colab": {
          "base_uri": "https://localhost:8080/"
        },
        "id": "6yNRWKipxfHp",
        "outputId": "05244f42-a115-4819-c7d8-5befc0b26471"
      },
      "execution_count": 5,
      "outputs": [
        {
          "output_type": "execute_result",
          "data": {
            "text/plain": [
              "0.7887004526662893"
            ]
          },
          "metadata": {},
          "execution_count": 5
        }
      ]
    },
    {
      "cell_type": "code",
      "source": [
        "stats.norm.interval(0.7887,loc=50,scale=40/(100**0.5))"
      ],
      "metadata": {
        "colab": {
          "base_uri": "https://localhost:8080/"
        },
        "id": "Tu2YYzncxhT0",
        "outputId": "65e3df61-2157-42a9-80a8-bef4149d540f"
      },
      "execution_count": 6,
      "outputs": [
        {
          "output_type": "execute_result",
          "data": {
            "text/plain": [
              "(45.00000495667348, 54.99999504332652)"
            ]
          },
          "metadata": {},
          "execution_count": 6
        }
      ]
    },
    {
      "cell_type": "code",
      "source": [
        "# For Investigation 1-P(45<X<55)\n",
        "1-0.7887"
      ],
      "metadata": {
        "colab": {
          "base_uri": "https://localhost:8080/"
        },
        "id": "sFN4wUxTxjoO",
        "outputId": "f258fac1-99d0-426d-e562-29069b618428"
      },
      "execution_count": 7,
      "outputs": [
        {
          "output_type": "execute_result",
          "data": {
            "text/plain": [
              "0.21130000000000004"
            ]
          },
          "metadata": {},
          "execution_count": 7
        }
      ]
    }
  ]
}